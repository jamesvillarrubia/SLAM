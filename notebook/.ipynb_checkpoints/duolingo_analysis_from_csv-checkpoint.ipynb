{
 "cells": [
  {
   "cell_type": "code",
   "execution_count": 4,
   "metadata": {},
   "outputs": [
    {
     "name": "stderr",
     "output_type": "stream",
     "text": [
      "/Users/xin/anaconda3/lib/python3.6/site-packages/IPython/core/interactiveshell.py:2802: DtypeWarning: Columns (28,30) have mixed types. Specify dtype option on import or set low_memory=False.\n",
      "  if self.run_code(code, result):\n"
     ]
    },
    {
     "data": {
      "text/plain": [
       "592022"
      ]
     },
     "execution_count": 4,
     "metadata": {},
     "output_type": "execute_result"
    }
   ],
   "source": [
    "import pandas as pd \n",
    "\n",
    "df=pd.DataFrame.from_csv(\"../data/data_es_en/es_en.slam.20171218.train.csv\")\n",
    "len(df.index)"
   ]
  },
  {
   "cell_type": "code",
   "execution_count": 42,
   "metadata": {},
   "outputs": [
    {
     "name": "stdout",
     "output_type": "stream",
     "text": [
      "65\n"
     ]
    }
   ],
   "source": [
    "len(df['user'].unique())\n",
    "print(len(df[df['user']=='OnFDApVD'].index))"
   ]
  },
  {
   "cell_type": "code",
   "execution_count": 24,
   "metadata": {},
   "outputs": [
    {
     "name": "stdout",
     "output_type": "stream",
     "text": [
      "correctness  count    65\n",
      "dtype: int64\n",
      "\n",
      "correctness  count    5797\n",
      "dtype: int64\n"
     ]
    }
   ],
   "source": [
    "user2count=df[['user','correctness']].groupby(['user']).agg(['count'])\n",
    "print(user2count.min())\n",
    "print()\n",
    "print(user2count.max())\n",
    "\n",
    "\n",
    "# pandas find min by one column"
   ]
  },
  {
   "cell_type": "code",
   "execution_count": 39,
   "metadata": {},
   "outputs": [
    {
     "name": "stdout",
     "output_type": "stream",
     "text": [
      "         correctness\n",
      "               count\n",
      "user                \n",
      "0WfOiABP        5797\n",
      "         correctness\n",
      "               count\n",
      "user                \n",
      "OnFDApVD          65\n"
     ]
    }
   ],
   "source": [
    "# user2count[user2count['correctness'].idxmax()]\n",
    "print(user2count.loc[user2count['correctness'].idxmax()])\n",
    "print(user2count.loc[user2count['correctness'].idxmin()])\n"
   ]
  },
  {
   "cell_type": "code",
   "execution_count": 35,
   "metadata": {
    "collapsed": true
   },
   "outputs": [],
   "source": [
    "# aggregate a single user's response as sentence, the instance_id is "
   ]
  },
  {
   "cell_type": "code",
   "execution_count": null,
   "metadata": {
    "collapsed": true
   },
   "outputs": [],
   "source": []
  }
 ],
 "metadata": {
  "kernelspec": {
   "display_name": "Python 3",
   "language": "python",
   "name": "python3"
  },
  "language_info": {
   "codemirror_mode": {
    "name": "ipython",
    "version": 3
   },
   "file_extension": ".py",
   "mimetype": "text/x-python",
   "name": "python",
   "nbconvert_exporter": "python",
   "pygments_lexer": "ipython3",
   "version": "3.6.3"
  }
 },
 "nbformat": 4,
 "nbformat_minor": 2
}
